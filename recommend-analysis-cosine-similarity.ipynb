{
 "cells": [
  {
   "cell_type": "code",
   "execution_count": 1,
   "metadata": {
    "_cell_guid": "b1076dfc-b9ad-4769-8c92-a6c4dae69d19",
    "_uuid": "8f2839f25d086af736a60e9eeb907d3b93b6e0e5"
   },
   "outputs": [],
   "source": [
    "import pandas as pd\n",
    "from sklearn.feature_extraction.text import TfidfVectorizer\n",
    "from sklearn.metrics.pairwise import linear_kernel"
   ]
  },
  {
   "cell_type": "code",
   "execution_count": 2,
   "metadata": {
    "_cell_guid": "79c7e3d0-c299-4dcb-8224-4455121ee9b0",
    "_uuid": "d629ff2d2480ee46fbb7e2d37f6b5fab8052498a"
   },
   "outputs": [
    {
     "name": "stderr",
     "output_type": "stream",
     "text": [
      "/opt/miniconda3/lib/python3.7/site-packages/ipykernel_launcher.py:1: FutureWarning: Your version of xlrd is 1.2.0. In xlrd >= 2.0, only the xls format is supported. As a result, the openpyxl engine will be used if it is installed and the engine argument is not specified. Install openpyxl instead.\n",
      "  \"\"\"Entry point for launching an IPython kernel.\n"
     ]
    },
    {
     "data": {
      "text/html": [
       "<div>\n",
       "<style scoped>\n",
       "    .dataframe tbody tr th:only-of-type {\n",
       "        vertical-align: middle;\n",
       "    }\n",
       "\n",
       "    .dataframe tbody tr th {\n",
       "        vertical-align: top;\n",
       "    }\n",
       "\n",
       "    .dataframe thead th {\n",
       "        text-align: right;\n",
       "    }\n",
       "</style>\n",
       "<table border=\"1\" class=\"dataframe\">\n",
       "  <thead>\n",
       "    <tr style=\"text-align: right;\">\n",
       "      <th></th>\n",
       "      <th>Category</th>\n",
       "      <th>Failure_reasons</th>\n",
       "      <th>Percent</th>\n",
       "    </tr>\n",
       "  </thead>\n",
       "  <tbody>\n",
       "    <tr>\n",
       "      <th>23</th>\n",
       "      <td>Operations</td>\n",
       "      <td>Need digital marketing</td>\n",
       "      <td>NaN</td>\n",
       "    </tr>\n",
       "    <tr>\n",
       "      <th>24</th>\n",
       "      <td>Strategy</td>\n",
       "      <td>Lack affiliation to grow business</td>\n",
       "      <td>NaN</td>\n",
       "    </tr>\n",
       "    <tr>\n",
       "      <th>25</th>\n",
       "      <td>Strategy</td>\n",
       "      <td>Lack bootstrap finance to run</td>\n",
       "      <td>NaN</td>\n",
       "    </tr>\n",
       "    <tr>\n",
       "      <th>26</th>\n",
       "      <td>Money</td>\n",
       "      <td>Need funding for overheads</td>\n",
       "      <td>NaN</td>\n",
       "    </tr>\n",
       "    <tr>\n",
       "      <th>27</th>\n",
       "      <td>Money</td>\n",
       "      <td>Need funding for operational expense</td>\n",
       "      <td>NaN</td>\n",
       "    </tr>\n",
       "    <tr>\n",
       "      <th>28</th>\n",
       "      <td>Strategy</td>\n",
       "      <td>Need plan to break even</td>\n",
       "      <td>NaN</td>\n",
       "    </tr>\n",
       "    <tr>\n",
       "      <th>29</th>\n",
       "      <td>Strategy</td>\n",
       "      <td>Need plan to overcome huge debt</td>\n",
       "      <td>NaN</td>\n",
       "    </tr>\n",
       "    <tr>\n",
       "      <th>30</th>\n",
       "      <td>Operations</td>\n",
       "      <td>Need to increase assets and net worth</td>\n",
       "      <td>NaN</td>\n",
       "    </tr>\n",
       "    <tr>\n",
       "      <th>31</th>\n",
       "      <td>Market</td>\n",
       "      <td>Need to revive brand image or rebranding</td>\n",
       "      <td>NaN</td>\n",
       "    </tr>\n",
       "    <tr>\n",
       "      <th>32</th>\n",
       "      <td>Behaviour</td>\n",
       "      <td>Need to focus on consumer buying behaviour</td>\n",
       "      <td>NaN</td>\n",
       "    </tr>\n",
       "  </tbody>\n",
       "</table>\n",
       "</div>"
      ],
      "text/plain": [
       "      Category                             Failure_reasons  Percent\n",
       "23  Operations                     Need digital marketing       NaN\n",
       "24    Strategy           Lack affiliation to grow business      NaN\n",
       "25    Strategy               Lack bootstrap finance to run      NaN\n",
       "26       Money                  Need funding for overheads      NaN\n",
       "27       Money        Need funding for operational expense      NaN\n",
       "28    Strategy                     Need plan to break even      NaN\n",
       "29    Strategy             Need plan to overcome huge debt      NaN\n",
       "30  Operations       Need to increase assets and net worth      NaN\n",
       "31      Market    Need to revive brand image or rebranding      NaN\n",
       "32   Behaviour  Need to focus on consumer buying behaviour      NaN"
      ]
     },
     "execution_count": 2,
     "metadata": {},
     "output_type": "execute_result"
    }
   ],
   "source": [
    "data = pd.read_excel('Pivot.xlsx')\n",
    "data.tail(10)"
   ]
  },
  {
   "cell_type": "code",
   "execution_count": 3,
   "metadata": {},
   "outputs": [],
   "source": [
    "#data = data.head(10000)"
   ]
  },
  {
   "cell_type": "code",
   "execution_count": 4,
   "metadata": {},
   "outputs": [
    {
     "data": {
      "text/plain": [
       "0"
      ]
     },
     "execution_count": 4,
     "metadata": {},
     "output_type": "execute_result"
    }
   ],
   "source": [
    "data['Failure_reasons'].isnull().sum()"
   ]
  },
  {
   "cell_type": "code",
   "execution_count": 5,
   "metadata": {},
   "outputs": [],
   "source": [
    "data['Failure_reasons'] = data['Failure_reasons'].fillna('')"
   ]
  },
  {
   "cell_type": "code",
   "execution_count": 6,
   "metadata": {},
   "outputs": [
    {
     "data": {
      "text/plain": [
       "0"
      ]
     },
     "execution_count": 6,
     "metadata": {},
     "output_type": "execute_result"
    }
   ],
   "source": [
    "data['Failure_reasons'].isnull().sum()"
   ]
  },
  {
   "cell_type": "code",
   "execution_count": 7,
   "metadata": {},
   "outputs": [
    {
     "name": "stdout",
     "output_type": "stream",
     "text": [
      "(33, 6)\n"
     ]
    }
   ],
   "source": [
    "tfidf = TfidfVectorizer(stop_words='english')\n",
    "tfidf_matrix = tfidf.fit_transform(data['Category'])\n",
    "print(tfidf_matrix.shape)"
   ]
  },
  {
   "cell_type": "code",
   "execution_count": 8,
   "metadata": {},
   "outputs": [],
   "source": [
    "cosine_sim = linear_kernel(tfidf_matrix, tfidf_matrix)"
   ]
  },
  {
   "cell_type": "code",
   "execution_count": 9,
   "metadata": {},
   "outputs": [
    {
     "data": {
      "text/plain": [
       "Failure_reasons\n",
       "No Market need                                     0\n",
       "Lack of cash to run business                       1\n",
       "Get out competed                                   2\n",
       "Lack right team to drive                           3\n",
       "Pricing or cost issues                             4\n",
       "User unfriendly product                            5\n",
       "Poor marketing                                     6\n",
       "Lack customer focus in business                    7\n",
       "Lack of customer interest                          8\n",
       "Product was mistimed                               9\n",
       "Disharmony amongst team or investors              10\n",
       "Need to shift current location or bad location    11\n",
       "Legal challenges                                  12\n",
       "No financing or No investor interest              13\n",
       "Lack of business plan                             14\n",
       "Loss of focus towards business                    15\n",
       "Pivot in business gone bad                        16\n",
       "Lack of passion to drive the business             17\n",
       "No use of networks or key advisors                18\n",
       "Burn out                                          19\n",
       "Lack plan to pivot business                       20\n",
       "Lack support from government                      21\n",
       "Lack plan to scale the business                   22\n",
       "Need digital marketing                            23\n",
       "Lack affiliation to grow business                 24\n",
       "Lack bootstrap finance to run                     25\n",
       "Need funding for overheads                        26\n",
       "Need funding for operational expense              27\n",
       "Need plan to break even                           28\n",
       "Need plan to overcome huge debt                   29\n",
       "Need to increase assets and net worth             30\n",
       "Need to revive brand image or rebranding          31\n",
       "Need to focus on consumer buying behaviour        32\n",
       "dtype: int64"
      ]
     },
     "execution_count": 9,
     "metadata": {},
     "output_type": "execute_result"
    }
   ],
   "source": [
    "global indices\n",
    "\n",
    "indices = pd.Series(data.index, index=data['Failure_reasons']).drop_duplicates()\n",
    "indices"
   ]
  },
  {
   "cell_type": "code",
   "execution_count": 10,
   "metadata": {},
   "outputs": [
    {
     "name": "stdout",
     "output_type": "stream",
     "text": [
      "2\n"
     ]
    }
   ],
   "source": [
    "idx = indices['Get out competed']\n",
    "print(idx)"
   ]
  },
  {
   "cell_type": "code",
   "execution_count": 11,
   "metadata": {},
   "outputs": [],
   "source": [
    "def get_recommendations(reason, indices, cosine_sim=cosine_sim):\n",
    "    idx = indices[reason]\n",
    "    sim_scores = list(enumerate(cosine_sim[idx]))\n",
    "    sim_scores = sorted(sim_scores, key=lambda x: x[1], reverse=True)\n",
    "    print(sim_scores)\n",
    "    sim_scores = sim_scores[0:8]\n",
    "    indices = [i[0] for i in sim_scores]\n",
    "\n",
    "    return data['Failure_reasons'].iloc[indices]"
   ]
  },
  {
   "cell_type": "code",
   "execution_count": 14,
   "metadata": {},
   "outputs": [
    {
     "name": "stdout",
     "output_type": "stream",
     "text": [
      "Mention a challenge to overcome in your business from the given list of reasons\n",
      "Failure_reasons\n",
      "No Market need                                     0\n",
      "Lack of cash to run business                       1\n",
      "Get out competed                                   2\n",
      "Lack right team to drive                           3\n",
      "Pricing or cost issues                             4\n",
      "User unfriendly product                            5\n",
      "Poor marketing                                     6\n",
      "Lack customer focus in business                    7\n",
      "Lack of customer interest                          8\n",
      "Product was mistimed                               9\n",
      "Disharmony amongst team or investors              10\n",
      "Need to shift current location or bad location    11\n",
      "Legal challenges                                  12\n",
      "No financing or No investor interest              13\n",
      "Lack of business plan                             14\n",
      "Loss of focus towards business                    15\n",
      "Pivot in business gone bad                        16\n",
      "Lack of passion to drive the business             17\n",
      "No use of networks or key advisors                18\n",
      "Burn out                                          19\n",
      "Lack plan to pivot business                       20\n",
      "Lack support from government                      21\n",
      "Lack plan to scale the business                   22\n",
      "Need digital marketing                            23\n",
      "Lack affiliation to grow business                 24\n",
      "Lack bootstrap finance to run                     25\n",
      "Need funding for overheads                        26\n",
      "Need funding for operational expense              27\n",
      "Need plan to break even                           28\n",
      "Need plan to overcome huge debt                   29\n",
      "Need to increase assets and net worth             30\n",
      "Need to revive brand image or rebranding          31\n",
      "Need to focus on consumer buying behaviour        32\n",
      "dtype: int64\n",
      "Your issue / challenge:Lack of customer interest\n",
      "Businesses with this issue also face challenges in\n",
      "[(4, 1.0), (6, 1.0), (7, 1.0), (8, 1.0), (11, 1.0), (12, 1.0), (21, 1.0), (23, 1.0), (30, 1.0), (0, 0.0), (1, 0.0), (2, 0.0), (3, 0.0), (5, 0.0), (9, 0.0), (10, 0.0), (13, 0.0), (14, 0.0), (15, 0.0), (16, 0.0), (17, 0.0), (18, 0.0), (19, 0.0), (20, 0.0), (22, 0.0), (24, 0.0), (25, 0.0), (26, 0.0), (27, 0.0), (28, 0.0), (29, 0.0), (31, 0.0), (32, 0.0)]\n"
     ]
    },
    {
     "data": {
      "text/plain": [
       "4                             Pricing or cost issues\n",
       "6                                     Poor marketing\n",
       "7                    Lack customer focus in business\n",
       "8                          Lack of customer interest\n",
       "11    Need to shift current location or bad location\n",
       "12                                  Legal challenges\n",
       "21                      Lack support from government\n",
       "23                           Need digital marketing \n",
       "Name: Failure_reasons, dtype: object"
      ]
     },
     "execution_count": 14,
     "metadata": {},
     "output_type": "execute_result"
    }
   ],
   "source": [
    "print(\"Mention a challenge to overcome in your business from the given list of reasons\")\n",
    "print(indices)\n",
    "reason = input (\"Your issue / challenge:\")\n",
    "print(\"Businesses with this issue also face challenges in\")\n",
    "get_recommendations(reason, indices)"
   ]
  },
  {
   "cell_type": "code",
   "execution_count": null,
   "metadata": {},
   "outputs": [],
   "source": []
  }
 ],
 "metadata": {
  "kernelspec": {
   "display_name": "Python 3",
   "language": "python",
   "name": "python3"
  },
  "language_info": {
   "codemirror_mode": {
    "name": "ipython",
    "version": 3
   },
   "file_extension": ".py",
   "mimetype": "text/x-python",
   "name": "python",
   "nbconvert_exporter": "python",
   "pygments_lexer": "ipython3",
   "version": "3.7.9"
  }
 },
 "nbformat": 4,
 "nbformat_minor": 1
}
